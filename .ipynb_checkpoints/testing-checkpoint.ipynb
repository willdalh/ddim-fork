{
 "cells": [
  {
   "cell_type": "code",
   "execution_count": 1,
   "metadata": {},
   "outputs": [],
   "source": [
    "import sys\n",
    "import os\n",
    "from argparse import Namespace\n",
    "import yaml\n",
    "import torch\n",
    "\n",
    "from runners.diffusion import Diffusion, get_beta_schedule\n",
    "from models.diffusion import Model\n",
    "from functions.denoising import generalized_steps, compute_alpha\n",
    "from main import parse_args_and_config, dict2namespace"
   ]
  },
  {
   "cell_type": "code",
   "execution_count": 2,
   "metadata": {},
   "outputs": [],
   "source": [
    "with open(os.path.join(\"configs\", \"celeba.yml\"), \"r\") as f:\n",
    "    config = yaml.safe_load(f)\n",
    "config = dict2namespace(config)\n",
    "\n",
    "device = torch.device(\"cuda\" if torch.cuda.is_available() else \"cpu\")\n"
   ]
  },
  {
   "cell_type": "code",
   "execution_count": 3,
   "metadata": {},
   "outputs": [],
   "source": [
    "states = torch.load(\"ckpt.pth\")"
   ]
  },
  {
   "cell_type": "code",
   "execution_count": 4,
   "metadata": {},
   "outputs": [
    {
     "name": "stderr",
     "output_type": "stream",
     "text": [
      "/cluster/home/williad/.local/lib/python3.8/site-packages/torch/nn/parallel/data_parallel.py:30: UserWarning: \n",
      "    There is an imbalance between your GPUs. You may want to exclude GPU 2 which\n",
      "    has less than 75% of the memory or cores of GPU 0. You can do so by setting\n",
      "    the device_ids argument to DataParallel, or by setting the CUDA_VISIBLE_DEVICES\n",
      "    environment variable.\n",
      "  warnings.warn(imbalance_warn.format(device_ids[min_pos], device_ids[max_pos]))\n"
     ]
    },
    {
     "data": {
      "text/plain": [
       "<All keys matched successfully>"
      ]
     },
     "execution_count": 4,
     "metadata": {},
     "output_type": "execute_result"
    }
   ],
   "source": [
    "model = Model(config)\n",
    "# model.load_state_dict(torch.load(\"ckpt.pth\"))\n",
    "\n",
    "# print(type(loaded[2]))\n",
    "model = model.to(device)\n",
    "model = torch.nn.DataParallel(model)\n",
    "model.load_state_dict(states[0], strict=True)"
   ]
  },
  {
   "cell_type": "code",
   "execution_count": 5,
   "metadata": {},
   "outputs": [],
   "source": [
    "betas = betas = get_beta_schedule(\n",
    "            beta_schedule=config.diffusion.beta_schedule,\n",
    "            beta_start=config.diffusion.beta_start,\n",
    "            beta_end=config.diffusion.beta_end,\n",
    "            num_diffusion_timesteps=config.diffusion.num_diffusion_timesteps,\n",
    "        )\n",
    "betas = torch.from_numpy(betas).float().to(device)"
   ]
  },
  {
   "cell_type": "code",
   "execution_count": 47,
   "metadata": {},
   "outputs": [],
   "source": [
    "start_noise = torch.randn(1, 3, 64, 64).to(device)"
   ]
  },
  {
   "cell_type": "code",
   "execution_count": 48,
   "metadata": {},
   "outputs": [
    {
     "name": "stdout",
     "output_type": "stream",
     "text": [
      "900 800\n",
      "800 700\n",
      "700 600\n",
      "600 500\n",
      "500 400\n",
      "400 300\n",
      "300 200\n",
      "200 100\n",
      "100 0\n",
      "0 -1\n",
      "tensor([[[[0.0001]]]], device='cuda:0')\n",
      "tensor([[[[0.]]]], device='cuda:0')\n"
     ]
    }
   ],
   "source": [
    "x = start_noise.clone()\n",
    "seq = torch.arange(1000).tolist()[::100]\n",
    "xs = generalized_steps(x, seq, model, betas, eta=0)"
   ]
  },
  {
   "cell_type": "code",
   "execution_count": 49,
   "metadata": {},
   "outputs": [
    {
     "data": {
      "text/plain": [
       "<matplotlib.image.AxesImage at 0x7fb0c78a4b20>"
      ]
     },
     "execution_count": 49,
     "metadata": {},
     "output_type": "execute_result"
    },
    {
     "data": {
      "image/png": "[encoded data removed]",
      "text/plain": [
       "<Figure size 432x288 with 1 Axes>"
      ]
     },
     "metadata": {
      "needs_background": "light"
     },
     "output_type": "display_data"
    }
   ],
   "source": [
    "import matplotlib.pyplot as plt\n",
    "instance = xs[0][-1]\n",
    "plt.imshow((instance.cpu().permute(0, 2, 3, 1)[0] + 1)/2)"
   ]
  },
  {
   "cell_type": "code",
   "execution_count": 50,
   "metadata": {},
   "outputs": [
    {
     "name": "stdout",
     "output_type": "stream",
     "text": [
      "tensor([[[[0.9999]]]], device='cuda:0')\n",
      "tensor([0.9999], device='cuda:0')\n",
      "tensor([[[[1.]]]], device='cuda:0')\n",
      "tensor([1.], device='cuda:0')\n",
      "tensor([    1.0000,     0.9999,     0.9998,  ...,     0.0000,     0.0000,\n",
      "            0.0000], device='cuda:0')\n"
     ]
    }
   ],
   "source": [
    "beta_test = torch.cat([torch.zeros(1).to(betas.device), betas], dim=0)\n",
    "alphabar = torch.cumprod(1-beta_test, dim=0).to(device)\n",
    "eta = 0\n",
    "\n",
    "test = compute_alpha(betas, torch.LongTensor([0]).to(device))\n",
    "print(test)\n",
    "print(alphabar.index_select(0, torch.LongTensor([0+1]).to(device)))\n",
    "\n",
    "test_prev = compute_alpha(betas, torch.LongTensor([-1]).to(device))\n",
    "print(test_prev)\n",
    "print(alphabar.index_select(0, torch.LongTensor([-1+1]).to(device)))\n",
    "print(alphabar)"
   ]
  },
  {
   "cell_type": "code",
   "execution_count": 51,
   "metadata": {},
   "outputs": [
    {
     "name": "stdout",
     "output_type": "stream",
     "text": [
      "901 801\n",
      "801 701\n",
      "701 601\n",
      "601 501\n",
      "501 401\n",
      "401 301\n",
      "301 201\n",
      "201 101\n",
      "101 1\n",
      "1 0\n",
      "tensor(0.0001, device='cuda:0')\n",
      "tensor(0., device='cuda:0')\n"
     ]
    }
   ],
   "source": [
    "x = start_noise.clone()\n",
    "step_size = 100\n",
    "with torch.no_grad():\n",
    "    for i in range(1000-step_size, -1, -step_size):\n",
    "        t = i + 1\n",
    "        prev_t = t - step_size\n",
    "        if t < step_size: prev_t = 0\n",
    "        print(t, prev_t)\n",
    "        \n",
    "        tt = torch.LongTensor([t] * x.shape[0]).to(x.device)\n",
    "        z = torch.randn(x.shape).to(x.device) if t > 1 else 0\n",
    "        eps = model(x, tt)\n",
    "\n",
    "        x0_t = (x - eps * (1 - alphabar[t]).sqrt()) / alphabar[t].sqrt()\n",
    "#         x0_t = ddim.get_predicted_x0(x, t)\n",
    "        \n",
    "\n",
    "        c1 = eta * ((1 - alphabar[t] / alphabar[prev_t]) * (1 - alphabar[prev_t]) / (\n",
    "            1 - alphabar[t])).sqrt()\n",
    "        c2 = ((1 - alphabar[prev_t]) - c1 ** 2).sqrt()\n",
    "        \n",
    "        x = alphabar[prev_t].sqrt() * x0_t + c1 * z + c2 * eps\n",
    "        if t < step_size:\n",
    "            print(1 - alphabar[t] / alphabar[prev_t])\n",
    "            print((1 - alphabar[prev_t]) / (\n",
    "            1 - alphabar[t]))\n",
    "#         print(x[0, 0, 0, 0], t, prev_t)\n",
    "        \n",
    "        "
   ]
  },
  {
   "cell_type": "code",
   "execution_count": 52,
   "metadata": {},
   "outputs": [
    {
     "data": {
      "text/plain": [
       "<matplotlib.image.AxesImage at 0x7fb0c7839b20>"
      ]
     },
     "execution_count": 52,
     "metadata": {},
     "output_type": "execute_result"
    },
    {
     "data": {
      "image/png": "[encoded data removed]",
      "text/plain": [
       "<Figure size 432x288 with 1 Axes>"
      ]
     },
     "metadata": {
      "needs_background": "light"
     },
     "output_type": "display_data"
    }
   ],
   "source": [
    "plt.imshow((x.cpu().permute(0, 2, 3, 1)[0] + 1)/2)"
   ]
  },
  {
   "cell_type": "markdown",
   "metadata": {},
   "source": [
    "Notes:\n",
    "Start from t = diffusionsteps - step size\n",
    "When calculating alphabar, add 0 to start of beta??????"
   ]
  }
 ],
 "metadata": {
  "kernelspec": {
   "display_name": "Python 3",
   "language": "python",
   "name": "python3"
  },
  "language_info": {
   "codemirror_mode": {
    "name": "ipython",
    "version": 3
   },
   "file_extension": ".py",
   "mimetype": "text/x-python",
   "name": "python",
   "nbconvert_exporter": "python",
   "pygments_lexer": "ipython3",
   "version": "3.8.3"
  }
 },
 "nbformat": 4,
 "nbformat_minor": 4
}
